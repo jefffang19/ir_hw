{
 "cells": [
  {
   "cell_type": "code",
   "execution_count": 43,
   "metadata": {},
   "outputs": [],
   "source": [
    "mesh = open('c2020.bin')"
   ]
  },
  {
   "cell_type": "code",
   "execution_count": 44,
   "metadata": {},
   "outputs": [
    {
     "data": {
      "text/plain": [
       "'*NEWRECORD\\n'"
      ]
     },
     "execution_count": 44,
     "metadata": {},
     "output_type": "execute_result"
    }
   ],
   "source": [
    "mesh.readline()"
   ]
  },
  {
   "cell_type": "code",
   "execution_count": 45,
   "metadata": {},
   "outputs": [],
   "source": [
    "# word : [Synonyms]\n",
    "index = {} \n",
    "\n",
    "# Synonym : word\n",
    "inverted_index = {}\n"
   ]
  },
  {
   "cell_type": "code",
   "execution_count": 50,
   "metadata": {},
   "outputs": [
    {
     "name": "stdout",
     "output_type": "stream",
     "text": [
      "NM = N-acetyl-L-arginine\n",
      "SY = N-alpha-acetylarginine|T109|EQV|NLM (1972)|abde\n",
      "SY = acetyl arginine|T109|EQV|INN (19XX)|150805|abdef\n"
     ]
    }
   ],
   "source": [
    "_index = ''\n",
    "\n",
    "while True:\n",
    "    line = mesh.readline()\n",
    "    if line == '*NEWRECORD\\n':\n",
    "        break\n",
    "    elif line[:2] == 'NM' and line[:5] != 'NM_TH':\n",
    "        print(line, end='')\n",
    "        _index = line[5:-1]\n",
    "#         print(_index)\n",
    "        \n",
    "        # create a synonyms index\n",
    "        index[_index] = []\n",
    "        \n",
    "    elif line[:2] == 'SY':\n",
    "        print(line, end='')\n",
    "        \n",
    "        # append to synonyms index\n",
    "        index[_index].append(line[5:].split('|')[0])\n",
    "        # create a inverted index\n",
    "        inverted_index[line[5:].split('|')[0]] = _index\n",
    "        "
   ]
  },
  {
   "cell_type": "code",
   "execution_count": 51,
   "metadata": {
    "scrolled": true
   },
   "outputs": [
    {
     "data": {
      "text/plain": [
       "{'bevonium': ['2-(hydroxymethyl)-N,N-dimethylpiperidinium benzilate',\n",
       "  'Acabel',\n",
       "  'CG 201',\n",
       "  'bevonium methyl sulfate',\n",
       "  'bevonium methylsulfate',\n",
       "  'bevonium metilsulfate',\n",
       "  'bevonium sulfate (1:1)',\n",
       "  'piribenzil methyl sulfate'],\n",
       " 'insulin, neutral': ['Actrapid insulin',\n",
       "  'Novo MC insulin',\n",
       "  'insulin (ox), 8(A)-L-threonine-10(A)-L-isoleucine-',\n",
       "  'insulin (pork)',\n",
       "  'insulin (swine)',\n",
       "  'insulin pork',\n",
       "  'neutral insulin'],\n",
       " 'N-acetylglucosaminylasparagine': ['2-acetamido-1-(beta-L-aspartamido)-1,2-dideoxy-beta-D-glucose',\n",
       "  \"2-acetamido-1-N-(4'-L-aspartyl)-2-deoxy-beta-D-glucopyranosylamine\",\n",
       "  '4-N-2-acetamido-2-deoxy-beta-D-glucopyranosyl-L-asparagine',\n",
       "  'AADG',\n",
       "  'N(4)-(2-acetamido-2-deoxy-beta-D-glucopyranosyl)-L-asparagine',\n",
       "  'N(4)-(2-acetamido-2-deoxyglucopyranosyl)asparagine',\n",
       "  'N-(2-acetylamino)-2-deoxy-beta-D-glucopyranosyl-L-asparagine',\n",
       "  'N-ADGP-Asn',\n",
       "  'acetylglucosaminylasparagine',\n",
       "  'asparaginylglucosamine',\n",
       "  'aspartylglucosamine',\n",
       "  'aspartylglucosylamine',\n",
       "  'aspartylglycosamine'],\n",
       " '5-(n-acetaminophenylazo)-8-oxyquinoline': [],\n",
       " 'N-acetyl-L-arginine': ['N-alpha-acetylarginine', 'acetyl arginine']}"
      ]
     },
     "execution_count": 51,
     "metadata": {},
     "output_type": "execute_result"
    }
   ],
   "source": [
    "# synonyms index\n",
    "index"
   ]
  },
  {
   "cell_type": "code",
   "execution_count": 52,
   "metadata": {},
   "outputs": [
    {
     "data": {
      "text/plain": [
       "{'2-(hydroxymethyl)-N,N-dimethylpiperidinium benzilate': 'bevonium',\n",
       " 'Acabel': 'bevonium',\n",
       " 'CG 201': 'bevonium',\n",
       " 'bevonium methyl sulfate': 'bevonium',\n",
       " 'bevonium methylsulfate': 'bevonium',\n",
       " 'bevonium metilsulfate': 'bevonium',\n",
       " 'bevonium sulfate (1:1)': 'bevonium',\n",
       " 'piribenzil methyl sulfate': 'bevonium',\n",
       " 'Actrapid insulin': 'insulin, neutral',\n",
       " 'Novo MC insulin': 'insulin, neutral',\n",
       " 'insulin (ox), 8(A)-L-threonine-10(A)-L-isoleucine-': 'insulin, neutral',\n",
       " 'insulin (pork)': 'insulin, neutral',\n",
       " 'insulin (swine)': 'insulin, neutral',\n",
       " 'insulin pork': 'insulin, neutral',\n",
       " 'neutral insulin': 'insulin, neutral',\n",
       " '2-acetamido-1-(beta-L-aspartamido)-1,2-dideoxy-beta-D-glucose': 'N-acetylglucosaminylasparagine',\n",
       " \"2-acetamido-1-N-(4'-L-aspartyl)-2-deoxy-beta-D-glucopyranosylamine\": 'N-acetylglucosaminylasparagine',\n",
       " '4-N-2-acetamido-2-deoxy-beta-D-glucopyranosyl-L-asparagine': 'N-acetylglucosaminylasparagine',\n",
       " 'AADG': 'N-acetylglucosaminylasparagine',\n",
       " 'N(4)-(2-acetamido-2-deoxy-beta-D-glucopyranosyl)-L-asparagine': 'N-acetylglucosaminylasparagine',\n",
       " 'N(4)-(2-acetamido-2-deoxyglucopyranosyl)asparagine': 'N-acetylglucosaminylasparagine',\n",
       " 'N-(2-acetylamino)-2-deoxy-beta-D-glucopyranosyl-L-asparagine': 'N-acetylglucosaminylasparagine',\n",
       " 'N-ADGP-Asn': 'N-acetylglucosaminylasparagine',\n",
       " 'acetylglucosaminylasparagine': 'N-acetylglucosaminylasparagine',\n",
       " 'asparaginylglucosamine': 'N-acetylglucosaminylasparagine',\n",
       " 'aspartylglucosamine': 'N-acetylglucosaminylasparagine',\n",
       " 'aspartylglucosylamine': 'N-acetylglucosaminylasparagine',\n",
       " 'aspartylglycosamine': 'N-acetylglucosaminylasparagine',\n",
       " 'N-alpha-acetylarginine': 'N-acetyl-L-arginine',\n",
       " 'acetyl arginine': 'N-acetyl-L-arginine'}"
      ]
     },
     "execution_count": 52,
     "metadata": {},
     "output_type": "execute_result"
    }
   ],
   "source": [
    "inverted_index"
   ]
  }
 ],
 "metadata": {
  "kernelspec": {
   "display_name": "Python 3",
   "language": "python",
   "name": "python3"
  },
  "language_info": {
   "codemirror_mode": {
    "name": "ipython",
    "version": 3
   },
   "file_extension": ".py",
   "mimetype": "text/x-python",
   "name": "python",
   "nbconvert_exporter": "python",
   "pygments_lexer": "ipython3",
   "version": "3.7.9"
  }
 },
 "nbformat": 4,
 "nbformat_minor": 4
}
